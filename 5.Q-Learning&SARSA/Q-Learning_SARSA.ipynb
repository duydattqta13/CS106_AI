{
  "nbformat": 4,
  "nbformat_minor": 0,
  "metadata": {
    "colab": {
      "name": "20520435.ipynb",
      "provenance": [],
      "collapsed_sections": [],
      "toc_visible": true
    },
    "kernelspec": {
      "name": "python3",
      "display_name": "Python 3"
    },
    "language_info": {
      "name": "python"
    }
  },
  "cells": [
    {
      "cell_type": "code",
      "metadata": {
        "id": "g8P_laMcSQNk"
      },
      "source": [
        "import gym\n",
        "import numpy as np\n",
        "import random"
      ],
      "execution_count": null,
      "outputs": []
    },
    {
      "cell_type": "markdown",
      "source": [
        "# FrozenLake-v0"
      ],
      "metadata": {
        "id": "T7otWxyci0eO"
      }
    },
    {
      "cell_type": "code",
      "metadata": {
        "id": "xifGZ8j-SWPT"
      },
      "source": [
        "env = gym.make('FrozenLake-v0')"
      ],
      "execution_count": null,
      "outputs": []
    },
    {
      "cell_type": "code",
      "metadata": {
        "colab": {
          "base_uri": "https://localhost:8080/"
        },
        "id": "KpG5Q7_XSdPw",
        "outputId": "1f5c43cb-2e05-4bc7-800e-d5e58ba191ce"
      },
      "source": [
        "# Initialize Q-value table randomly\n",
        "q_table = np.zeros((env.observation_space.n, env.action_space.n))\n",
        "print(q_table)"
      ],
      "execution_count": null,
      "outputs": [
        {
          "output_type": "stream",
          "name": "stdout",
          "text": [
            "[[0. 0. 0. 0.]\n",
            " [0. 0. 0. 0.]\n",
            " [0. 0. 0. 0.]\n",
            " [0. 0. 0. 0.]\n",
            " [0. 0. 0. 0.]\n",
            " [0. 0. 0. 0.]\n",
            " [0. 0. 0. 0.]\n",
            " [0. 0. 0. 0.]\n",
            " [0. 0. 0. 0.]\n",
            " [0. 0. 0. 0.]\n",
            " [0. 0. 0. 0.]\n",
            " [0. 0. 0. 0.]\n",
            " [0. 0. 0. 0.]\n",
            " [0. 0. 0. 0.]\n",
            " [0. 0. 0. 0.]\n",
            " [0. 0. 0. 0.]]\n"
          ]
        }
      ]
    },
    {
      "cell_type": "code",
      "metadata": {
        "id": "dFsyfXH5Ssd6"
      },
      "source": [
        "# Hyperparameters\n",
        "gamma = 0.99\n",
        "learning_rate = 0.1\n",
        "max_epsilon = 1.0\n",
        "min_epsilon = 0.01\n",
        "epsilon_decay_rate = 0.005\n",
        "\n",
        "num_episodes = 20000\n",
        "num_steps_per_episode = 100"
      ],
      "execution_count": null,
      "outputs": []
    },
    {
      "cell_type": "markdown",
      "source": [
        "## Thuật toán Q-Learning"
      ],
      "metadata": {
        "id": "mQcmqdKxP648"
      }
    },
    {
      "cell_type": "code",
      "metadata": {
        "id": "d3xVez-WTeww"
      },
      "source": [
        "def q_learning(env, num_episodes, num_steps_per_episode, learning_rate, gamma, max_epsilon, min_epsilon, epsilon_decay_rate):\n",
        "    q_table = np.zeros((env.observation_space.n, env.action_space.n))\n",
        "    rewards_all = []\n",
        "    for episode in range(num_episodes):\n",
        "        state = env.reset()\n",
        "\n",
        "        reward_episode = 0.0\n",
        "        done = False\n",
        "        epsilon = min_epsilon + (max_epsilon - min_epsilon) * np.exp(-epsilon_decay_rate*episode)\n",
        "        for step in range(num_steps_per_episode):\n",
        "            exploration = random.uniform(0,1)\n",
        "            if exploration < epsilon:\n",
        "                action = env.action_space.sample()\n",
        "            else:\n",
        "                action = np.argmax(q_table[state, :])\n",
        "\n",
        "            next_state, reward, done, info = env.step(action)\n",
        "            q_table[state, action] = q_table[state, action] * (1 - learning_rate) + learning_rate * (reward + gamma * np.max(q_table[next_state,:]))\n",
        "\n",
        "            reward_episode += reward\n",
        "            state = next_state\n",
        "\n",
        "            if done:\n",
        "                break\n",
        "        rewards_all.append(reward_episode)\n",
        "    print(f'Episode {episode} finished')\n",
        "    return q_table, rewards_all"
      ],
      "execution_count": null,
      "outputs": []
    },
    {
      "cell_type": "code",
      "metadata": {
        "colab": {
          "base_uri": "https://localhost:8080/"
        },
        "id": "jmauQUIQVOWr",
        "outputId": "f43c603e-abbc-4c6a-b2df-387221836dcf"
      },
      "source": [
        "q_table, rewards_all = q_learning(env, num_episodes, num_steps_per_episode, learning_rate, gamma, max_epsilon, min_epsilon, epsilon_decay_rate)"
      ],
      "execution_count": null,
      "outputs": [
        {
          "output_type": "stream",
          "name": "stdout",
          "text": [
            "Episode 19999 finished\n"
          ]
        }
      ]
    },
    {
      "cell_type": "code",
      "source": [
        "q_table"
      ],
      "metadata": {
        "colab": {
          "base_uri": "https://localhost:8080/"
        },
        "id": "c53gNVQmOhhi",
        "outputId": "31bf077c-5096-4cfd-ac0f-640bdfb0fe0f"
      },
      "execution_count": null,
      "outputs": [
        {
          "output_type": "execute_result",
          "data": {
            "text/plain": [
              "array([[5.36331837e-01, 4.81409614e-01, 4.64682415e-01, 4.64442318e-01],\n",
              "       [2.98728299e-01, 2.41669230e-01, 2.00757206e-01, 4.47369971e-01],\n",
              "       [3.66546947e-01, 2.45479442e-01, 2.54281218e-01, 2.53388556e-01],\n",
              "       [1.15347764e-09, 2.16081710e-01, 5.24862455e-09, 7.08909471e-09],\n",
              "       [5.46987040e-01, 3.05162902e-01, 3.38287645e-01, 3.79289482e-01],\n",
              "       [0.00000000e+00, 0.00000000e+00, 0.00000000e+00, 0.00000000e+00],\n",
              "       [1.32502817e-01, 4.77710670e-02, 2.30210196e-01, 1.36851580e-01],\n",
              "       [0.00000000e+00, 0.00000000e+00, 0.00000000e+00, 0.00000000e+00],\n",
              "       [2.79439258e-01, 4.09676492e-01, 3.29712404e-01, 5.73842284e-01],\n",
              "       [3.99523590e-01, 5.74871826e-01, 4.29975476e-01, 4.46647633e-01],\n",
              "       [5.24731471e-01, 3.71512284e-01, 2.56017956e-01, 2.78572840e-01],\n",
              "       [0.00000000e+00, 0.00000000e+00, 0.00000000e+00, 0.00000000e+00],\n",
              "       [0.00000000e+00, 0.00000000e+00, 0.00000000e+00, 0.00000000e+00],\n",
              "       [6.08894849e-01, 4.63898405e-01, 7.65806530e-01, 4.33105487e-01],\n",
              "       [6.90591211e-01, 9.13247316e-01, 7.54625438e-01, 7.53587557e-01],\n",
              "       [0.00000000e+00, 0.00000000e+00, 0.00000000e+00, 0.00000000e+00]])"
            ]
          },
          "metadata": {},
          "execution_count": 69
        }
      ]
    },
    {
      "cell_type": "markdown",
      "source": [
        "## Cài đặt thuật toán SARSA"
      ],
      "metadata": {
        "id": "8c_XpWm6QAIR"
      }
    },
    {
      "cell_type": "code",
      "source": [
        "def epsilon_greedy(Q, epsilon, n_actions, s):\n",
        "    \"\"\"\n",
        "    Q: Q Table\n",
        "    epsilon: exploration parameter\n",
        "    n_actions: number of actions\n",
        "    s: state\n",
        "    \"\"\"\n",
        "    # selects a random action with probability epsilon\n",
        "    if np.random.random() <= epsilon:\n",
        "        return np.random.randint(n_actions)\n",
        "    else:\n",
        "        return np.argmax(Q[s, :])\n",
        "    \n",
        "\n",
        "n_states, n_actions = env.observation_space.n, env.action_space.n\n",
        "\n",
        "def SARSA(env, num_episodes, num_steps_per_episode, learning_rate, gamma, max_epsilon, min_epsilon, epsilon_decay_rate):\n",
        "    q_table = np.zeros((env.observation_space.n, env.action_space.n))\n",
        "    rewards_all = []\n",
        "    for episode in range(num_episodes):\n",
        "        state = env.reset()\n",
        "\n",
        "        reward_episode = 0.0\n",
        "        done = False\n",
        "        epsilon = min_epsilon + (max_epsilon - min_epsilon) * np.exp(-epsilon_decay_rate*episode)\n",
        "\n",
        "        action = epsilon_greedy(q_table, epsilon, n_actions ,state)\n",
        "\n",
        "\n",
        "        for step in range(num_steps_per_episode):\n",
        "            exploration = random.uniform(0,1)\n",
        "            if exploration < epsilon:\n",
        "                action = env.action_space.sample()\n",
        "            else:\n",
        "                action = np.argmax(q_table[state, :])\n",
        "\n",
        "            next_state, reward, done, info = env.step(action)\n",
        "            next_action = epsilon_greedy(q_table, epsilon, n_actions , next_state)\n",
        "            \n",
        "            q_table[state, action] = q_table[state, action] * (1 - learning_rate) + learning_rate * (reward + gamma * q_table[next_state, next_action])\n",
        "\n",
        "            reward_episode += reward\n",
        "            state = next_state\n",
        "\n",
        "            if done:\n",
        "                break\n",
        "        rewards_all.append(reward_episode)\n",
        "    print(f'Episode {episode} finished')\n",
        "    return q_table, rewards_all"
      ],
      "metadata": {
        "id": "HqAG89iLKcUJ"
      },
      "execution_count": null,
      "outputs": []
    },
    {
      "cell_type": "code",
      "source": [
        "q_table_2, rewards_all_2 = SARSA(env, num_episodes, num_steps_per_episode, learning_rate, gamma, max_epsilon, min_epsilon, epsilon_decay_rate)"
      ],
      "metadata": {
        "colab": {
          "base_uri": "https://localhost:8080/"
        },
        "id": "WeneghJUNC2t",
        "outputId": "9531a7f1-a585-4f84-c5d1-2788df66e582"
      },
      "execution_count": null,
      "outputs": [
        {
          "output_type": "stream",
          "name": "stdout",
          "text": [
            "Episode 19999 finished\n"
          ]
        }
      ]
    },
    {
      "cell_type": "code",
      "metadata": {
        "id": "XBf-s9wsVX5Z",
        "colab": {
          "base_uri": "https://localhost:8080/"
        },
        "outputId": "c310e122-87fe-4615-ed9a-65f487ca9fc1"
      },
      "source": [
        "q_table_2"
      ],
      "execution_count": null,
      "outputs": [
        {
          "output_type": "execute_result",
          "data": {
            "text/plain": [
              "array([[5.25675544e-01, 4.11083779e-01, 4.29636609e-01, 4.32238514e-01],\n",
              "       [2.70815687e-01, 2.90799418e-01, 1.62256536e-01, 3.86886259e-01],\n",
              "       [3.38517543e-01, 2.12720254e-01, 2.51491508e-01, 2.71528497e-01],\n",
              "       [1.29245139e-01, 4.17136214e-05, 6.25209101e-05, 4.15791938e-03],\n",
              "       [5.41682025e-01, 3.35349962e-01, 3.28077023e-01, 2.50103488e-01],\n",
              "       [0.00000000e+00, 0.00000000e+00, 0.00000000e+00, 0.00000000e+00],\n",
              "       [1.32640014e-01, 9.68976397e-02, 3.42854457e-01, 1.44902581e-01],\n",
              "       [0.00000000e+00, 0.00000000e+00, 0.00000000e+00, 0.00000000e+00],\n",
              "       [3.24212271e-01, 2.75126872e-01, 2.23356826e-01, 5.82032320e-01],\n",
              "       [4.26492011e-01, 6.22671263e-01, 4.59677448e-01, 3.94299787e-01],\n",
              "       [6.10422173e-01, 3.85323540e-01, 3.80762138e-01, 2.80780980e-01],\n",
              "       [0.00000000e+00, 0.00000000e+00, 0.00000000e+00, 0.00000000e+00],\n",
              "       [0.00000000e+00, 0.00000000e+00, 0.00000000e+00, 0.00000000e+00],\n",
              "       [3.32412656e-01, 4.98403798e-01, 7.24092708e-01, 4.80577128e-01],\n",
              "       [6.87695169e-01, 8.49230240e-01, 7.05555331e-01, 7.43703547e-01],\n",
              "       [0.00000000e+00, 0.00000000e+00, 0.00000000e+00, 0.00000000e+00]])"
            ]
          },
          "metadata": {},
          "execution_count": 72
        }
      ]
    },
    {
      "cell_type": "code",
      "metadata": {
        "id": "8MAozcopVdi_",
        "colab": {
          "base_uri": "https://localhost:8080/"
        },
        "outputId": "a673c9a9-b588-4fdb-f9e2-f73cd23f10f0"
      },
      "source": [
        "sum(rewards_all)"
      ],
      "execution_count": null,
      "outputs": [
        {
          "output_type": "execute_result",
          "data": {
            "text/plain": [
              "13217.0"
            ]
          },
          "metadata": {},
          "execution_count": 73
        }
      ]
    },
    {
      "cell_type": "code",
      "metadata": {
        "id": "pByHjXsCWUns",
        "colab": {
          "base_uri": "https://localhost:8080/"
        },
        "outputId": "4236e7a3-fe42-4820-f760-4e56a6b02fad"
      },
      "source": [
        "sum(rewards_all[0:1000])"
      ],
      "execution_count": null,
      "outputs": [
        {
          "output_type": "execute_result",
          "data": {
            "text/plain": [
              "300.0"
            ]
          },
          "metadata": {},
          "execution_count": 74
        }
      ]
    },
    {
      "cell_type": "code",
      "metadata": {
        "id": "J1aMbYbaWgNR",
        "colab": {
          "base_uri": "https://localhost:8080/"
        },
        "outputId": "2697e928-65b2-4a55-de75-cbdefb5adff5"
      },
      "source": [
        "sum(rewards_all[1000:2000])"
      ],
      "execution_count": null,
      "outputs": [
        {
          "output_type": "execute_result",
          "data": {
            "text/plain": [
              "668.0"
            ]
          },
          "metadata": {},
          "execution_count": 75
        }
      ]
    },
    {
      "cell_type": "code",
      "metadata": {
        "id": "gFMeYv4tWjzm",
        "colab": {
          "base_uri": "https://localhost:8080/"
        },
        "outputId": "c4bbb70b-306d-479a-f727-c7232b5bbd2c"
      },
      "source": [
        "sum(rewards_all[2000:3000])"
      ],
      "execution_count": null,
      "outputs": [
        {
          "output_type": "execute_result",
          "data": {
            "text/plain": [
              "696.0"
            ]
          },
          "metadata": {},
          "execution_count": 76
        }
      ]
    },
    {
      "cell_type": "code",
      "metadata": {
        "id": "f3W0RultWl_5",
        "colab": {
          "base_uri": "https://localhost:8080/"
        },
        "outputId": "c1965ba6-a647-4921-f614-94aeee756d29"
      },
      "source": [
        "sum(rewards_all[9000:10000])"
      ],
      "execution_count": null,
      "outputs": [
        {
          "output_type": "execute_result",
          "data": {
            "text/plain": [
              "678.0"
            ]
          },
          "metadata": {},
          "execution_count": 77
        }
      ]
    },
    {
      "cell_type": "code",
      "source": [
        "sum(rewards_all_2[9000:10000])"
      ],
      "metadata": {
        "colab": {
          "base_uri": "https://localhost:8080/"
        },
        "id": "cTQ5c721QULQ",
        "outputId": "c293af4e-90ea-4bbe-9331-7ce9474a1a0d"
      },
      "execution_count": null,
      "outputs": [
        {
          "output_type": "execute_result",
          "data": {
            "text/plain": [
              "664.0"
            ]
          },
          "metadata": {},
          "execution_count": 78
        }
      ]
    },
    {
      "cell_type": "code",
      "metadata": {
        "id": "yGopsD0IWpDO"
      },
      "source": [
        "def play(env, q_table, render=False):\n",
        "    state = env.reset()\n",
        "    total_reward = 0\n",
        "    steps = 0\n",
        "    done = False\n",
        "    while not done:\n",
        "        action = np.argmax(q_table[state, :])\n",
        "        next_state, reward, done, info = env.step(action)\n",
        "        total_reward += reward\n",
        "        steps += 1\n",
        "        if render:\n",
        "            env.render()\n",
        "            time.sleep(0.2)\n",
        "            if not done:\n",
        "                display.clear_output(wait=True)\n",
        "        state = next_state\n",
        "\n",
        "    return (total_reward, steps)"
      ],
      "execution_count": null,
      "outputs": []
    },
    {
      "cell_type": "code",
      "source": [
        "def play_multiple_times(env, q_table, max_episodes):\n",
        "    success = 0\n",
        "    list_of_steps = []\n",
        "    for i in range(max_episodes):\n",
        "        total_reward, steps = play(env, q_table)\n",
        "\n",
        "        if total_reward > 0:\n",
        "            success += 1\n",
        "            list_of_steps.append(steps)\n",
        "\n",
        "    print(f'Number of successes: {success}/{max_episodes}')\n",
        "    print(f'Average number of steps: {np.mean(list_of_steps)}')"
      ],
      "metadata": {
        "id": "2l8BKi9TSqRe"
      },
      "execution_count": null,
      "outputs": []
    },
    {
      "cell_type": "code",
      "source": [
        "play_multiple_times(env, q_table, 1000)"
      ],
      "metadata": {
        "colab": {
          "base_uri": "https://localhost:8080/"
        },
        "id": "hs-EbCUUSvf2",
        "outputId": "29fe4a04-fffb-4f64-afd3-086cc0cc17ed"
      },
      "execution_count": null,
      "outputs": [
        {
          "output_type": "stream",
          "name": "stdout",
          "text": [
            "Number of successes: 718/1000\n",
            "Average number of steps: 36.82451253481894\n"
          ]
        }
      ]
    },
    {
      "cell_type": "code",
      "source": [
        "play_multiple_times(env, q_table_2, 1000)"
      ],
      "metadata": {
        "id": "bm4CcsAzSx-f",
        "colab": {
          "base_uri": "https://localhost:8080/"
        },
        "outputId": "af3e3292-7ed9-42b4-c5ad-de8fc95efd2a"
      },
      "execution_count": null,
      "outputs": [
        {
          "output_type": "stream",
          "name": "stdout",
          "text": [
            "Number of successes: 721/1000\n",
            "Average number of steps: 37.0748959778086\n"
          ]
        }
      ]
    },
    {
      "cell_type": "markdown",
      "source": [
        "Nhận xét trên môi trường FrozenLake-v0:\n",
        "  + Number of successes của SARSA tốt hơn 1 chút so với Q-Learning (721 > 718)\n",
        "  + Average number of steps của 2 thuật toán cũng gần như nhau 36.82 và 37.07"
      ],
      "metadata": {
        "id": "XkS1a3z7yolj"
      }
    },
    {
      "cell_type": "markdown",
      "source": [
        "# FrozenLake8x8-v0"
      ],
      "metadata": {
        "id": "3rUpmq3Bis3e"
      }
    },
    {
      "cell_type": "code",
      "source": [
        "env = gym.make('FrozenLake8x8-v0')"
      ],
      "metadata": {
        "id": "KJc9H4vljEGg"
      },
      "execution_count": null,
      "outputs": []
    },
    {
      "cell_type": "code",
      "source": [
        "q_table, rewards_all = q_learning(env, num_episodes, num_steps_per_episode, learning_rate, gamma, max_epsilon, min_epsilon, epsilon_decay_rate)"
      ],
      "metadata": {
        "colab": {
          "base_uri": "https://localhost:8080/"
        },
        "id": "h-B8a9XtjYg-",
        "outputId": "6a456b05-50b7-4cd6-ce67-d71b76067ec6"
      },
      "execution_count": null,
      "outputs": [
        {
          "output_type": "stream",
          "name": "stdout",
          "text": [
            "Episode 19999 finished\n"
          ]
        }
      ]
    },
    {
      "cell_type": "code",
      "source": [
        "q_table"
      ],
      "metadata": {
        "colab": {
          "base_uri": "https://localhost:8080/"
        },
        "id": "45GYyXOvjzQ2",
        "outputId": "a3afbcce-7a4c-4c39-f610-ffc17980ebbd"
      },
      "execution_count": null,
      "outputs": [
        {
          "output_type": "execute_result",
          "data": {
            "text/plain": [
              "array([[0., 0., 0., 0.],\n",
              "       [0., 0., 0., 0.],\n",
              "       [0., 0., 0., 0.],\n",
              "       [0., 0., 0., 0.],\n",
              "       [0., 0., 0., 0.],\n",
              "       [0., 0., 0., 0.],\n",
              "       [0., 0., 0., 0.],\n",
              "       [0., 0., 0., 0.],\n",
              "       [0., 0., 0., 0.],\n",
              "       [0., 0., 0., 0.],\n",
              "       [0., 0., 0., 0.],\n",
              "       [0., 0., 0., 0.],\n",
              "       [0., 0., 0., 0.],\n",
              "       [0., 0., 0., 0.],\n",
              "       [0., 0., 0., 0.],\n",
              "       [0., 0., 0., 0.],\n",
              "       [0., 0., 0., 0.],\n",
              "       [0., 0., 0., 0.],\n",
              "       [0., 0., 0., 0.],\n",
              "       [0., 0., 0., 0.],\n",
              "       [0., 0., 0., 0.],\n",
              "       [0., 0., 0., 0.],\n",
              "       [0., 0., 0., 0.],\n",
              "       [0., 0., 0., 0.],\n",
              "       [0., 0., 0., 0.],\n",
              "       [0., 0., 0., 0.],\n",
              "       [0., 0., 0., 0.],\n",
              "       [0., 0., 0., 0.],\n",
              "       [0., 0., 0., 0.],\n",
              "       [0., 0., 0., 0.],\n",
              "       [0., 0., 0., 0.],\n",
              "       [0., 0., 0., 0.],\n",
              "       [0., 0., 0., 0.],\n",
              "       [0., 0., 0., 0.],\n",
              "       [0., 0., 0., 0.],\n",
              "       [0., 0., 0., 0.],\n",
              "       [0., 0., 0., 0.],\n",
              "       [0., 0., 0., 0.],\n",
              "       [0., 0., 0., 0.],\n",
              "       [0., 0., 0., 0.],\n",
              "       [0., 0., 0., 0.],\n",
              "       [0., 0., 0., 0.],\n",
              "       [0., 0., 0., 0.],\n",
              "       [0., 0., 0., 0.],\n",
              "       [0., 0., 0., 0.],\n",
              "       [0., 0., 0., 0.],\n",
              "       [0., 0., 0., 0.],\n",
              "       [0., 0., 0., 0.],\n",
              "       [0., 0., 0., 0.],\n",
              "       [0., 0., 0., 0.],\n",
              "       [0., 0., 0., 0.],\n",
              "       [0., 0., 0., 0.],\n",
              "       [0., 0., 0., 0.],\n",
              "       [0., 0., 0., 0.],\n",
              "       [0., 0., 0., 0.],\n",
              "       [0., 0., 0., 0.],\n",
              "       [0., 0., 0., 0.],\n",
              "       [0., 0., 0., 0.],\n",
              "       [0., 0., 0., 0.],\n",
              "       [0., 0., 0., 0.],\n",
              "       [0., 0., 0., 0.],\n",
              "       [0., 0., 0., 0.],\n",
              "       [0., 0., 0., 0.],\n",
              "       [0., 0., 0., 0.]])"
            ]
          },
          "metadata": {},
          "execution_count": 85
        }
      ]
    },
    {
      "cell_type": "code",
      "source": [
        "sum(rewards_all[9000:10000])"
      ],
      "metadata": {
        "colab": {
          "base_uri": "https://localhost:8080/"
        },
        "id": "z0ueReS2kN3s",
        "outputId": "60595d60-3d9d-4b88-e6d7-be51af7eb404"
      },
      "execution_count": null,
      "outputs": [
        {
          "output_type": "execute_result",
          "data": {
            "text/plain": [
              "0.0"
            ]
          },
          "metadata": {},
          "execution_count": 86
        }
      ]
    },
    {
      "cell_type": "code",
      "source": [
        "q_table_2, rewards_all_2 = SARSA(env, num_episodes, num_steps_per_episode, learning_rate, gamma, max_epsilon, min_epsilon, epsilon_decay_rate)"
      ],
      "metadata": {
        "colab": {
          "base_uri": "https://localhost:8080/"
        },
        "id": "tiGqvcMejZkQ",
        "outputId": "28a11260-21f3-4f79-ade6-bae830b5bf73"
      },
      "execution_count": null,
      "outputs": [
        {
          "output_type": "stream",
          "name": "stdout",
          "text": [
            "Episode 19999 finished\n"
          ]
        }
      ]
    },
    {
      "cell_type": "code",
      "source": [
        "q_table_2"
      ],
      "metadata": {
        "colab": {
          "base_uri": "https://localhost:8080/"
        },
        "id": "4BnAPBnfkKdP",
        "outputId": "9cb66d2f-6ed8-453d-a83a-4deacf9be390"
      },
      "execution_count": null,
      "outputs": [
        {
          "output_type": "execute_result",
          "data": {
            "text/plain": [
              "array([[ 0.        ,  0.        ,  0.        ,  0.        ,  0.        ,\n",
              "         0.        ],\n",
              "       [-1.26554826, -2.16866161, -2.17858438, -3.0402459 ,  8.2570751 ,\n",
              "        -4.91916341],\n",
              "       [ 2.6033253 ,  0.77275178,  1.39888425,  0.81978018, 14.01219276,\n",
              "        -5.26296194],\n",
              "       ...,\n",
              "       [-1.39524658, -0.8484833 , -1.4015808 , -1.40763279, -5.46149344,\n",
              "        -4.843336  ],\n",
              "       [-3.49399978, -3.46024302, -3.40498748, -0.74361837, -7.24099505,\n",
              "        -7.40639733],\n",
              "       [-0.2694952 , -0.1999    , -0.1999    , 10.93590646, -1.        ,\n",
              "        -1.91881   ]])"
            ]
          },
          "metadata": {},
          "execution_count": 50
        }
      ]
    },
    {
      "cell_type": "code",
      "source": [
        "sum(rewards_all_2[9000:10000])"
      ],
      "metadata": {
        "colab": {
          "base_uri": "https://localhost:8080/"
        },
        "id": "HLoK1oVqkPEC",
        "outputId": "2b9d6e25-7b7e-4b02-c8a6-d2a2a41c7f0d"
      },
      "execution_count": null,
      "outputs": [
        {
          "output_type": "execute_result",
          "data": {
            "text/plain": [
              "7434.0"
            ]
          },
          "metadata": {},
          "execution_count": 51
        }
      ]
    },
    {
      "cell_type": "code",
      "source": [
        "play_multiple_times(env, q_table, 1000)"
      ],
      "metadata": {
        "colab": {
          "base_uri": "https://localhost:8080/"
        },
        "id": "LUUUIRPhkZPA",
        "outputId": "5e63759a-1be7-41c1-997d-d7ec118f0e41"
      },
      "execution_count": null,
      "outputs": [
        {
          "output_type": "stream",
          "name": "stdout",
          "text": [
            "Number of successes: 1000/1000\n",
            "Average number of steps: 13.028\n"
          ]
        }
      ]
    },
    {
      "cell_type": "code",
      "source": [
        "play_multiple_times(env, q_table_2, 1000)"
      ],
      "metadata": {
        "colab": {
          "base_uri": "https://localhost:8080/"
        },
        "id": "UBez_8n3kauv",
        "outputId": "28e5ccdc-5fcf-4131-9ade-f3f4f010f8ad"
      },
      "execution_count": null,
      "outputs": [
        {
          "output_type": "stream",
          "name": "stdout",
          "text": [
            "Number of successes: 1000/1000\n",
            "Average number of steps: 13.068\n"
          ]
        }
      ]
    },
    {
      "cell_type": "markdown",
      "source": [
        "Nhận xét trên môi trường FrozenLak8x8e-v0:\n",
        "+ Number of sccesses của SARSA với Q-Learning bằng nhau và tối đa 1000.\n",
        "+ Average number of steps của 2 thuật toán cũng gần gần nhau 13.028 và 13.068"
      ],
      "metadata": {
        "id": "fN18aLugzioh"
      }
    },
    {
      "cell_type": "markdown",
      "source": [
        "# Taxi-v3"
      ],
      "metadata": {
        "id": "_Osfr8fMi-Jv"
      }
    },
    {
      "cell_type": "code",
      "source": [
        "env = gym.make('Taxi-v3')"
      ],
      "metadata": {
        "id": "0U5sEbzfkUdd"
      },
      "execution_count": null,
      "outputs": []
    },
    {
      "cell_type": "code",
      "source": [
        "q_table, rewards_all = q_learning(env, num_episodes, num_steps_per_episode, learning_rate, gamma, max_epsilon, min_epsilon, epsilon_decay_rate)"
      ],
      "metadata": {
        "colab": {
          "base_uri": "https://localhost:8080/"
        },
        "outputId": "3078d3a3-4163-4fb0-f95b-927db9a3467c",
        "id": "_3t9A-rrkUdd"
      },
      "execution_count": null,
      "outputs": [
        {
          "output_type": "stream",
          "name": "stdout",
          "text": [
            "Episode 19999 finished\n"
          ]
        }
      ]
    },
    {
      "cell_type": "code",
      "source": [
        "q_table"
      ],
      "metadata": {
        "colab": {
          "base_uri": "https://localhost:8080/"
        },
        "id": "rZOo3avekUde",
        "outputId": "1b9cf578-caab-4b31-debd-32911c7333d4"
      },
      "execution_count": null,
      "outputs": [
        {
          "output_type": "execute_result",
          "data": {
            "text/plain": [
              "array([[ 0.        ,  0.        ,  0.        ,  0.        ,  0.        ,\n",
              "         0.        ],\n",
              "       [ 0.49520654,  2.00056796, -2.42844336, -1.38806626,  9.6220697 ,\n",
              "        -3.41469895],\n",
              "       [ 3.59281756,  2.03283477, -0.87354049,  3.07536457, 14.11880599,\n",
              "        -4.04622411],\n",
              "       ...,\n",
              "       [-1.25102892,  4.63471853, -1.28373394, -1.21798638, -1.9197901 ,\n",
              "        -4.87414035],\n",
              "       [-2.43667219, -2.44563813, -2.47022874,  1.0742471 , -3.57497861,\n",
              "        -4.51745465],\n",
              "       [-0.1999    , -0.1999    , -0.1999    ,  7.80873722, -1.        ,\n",
              "        -1.        ]])"
            ]
          },
          "metadata": {},
          "execution_count": 56
        }
      ]
    },
    {
      "cell_type": "code",
      "source": [
        "sum(rewards_all[9000:10000])"
      ],
      "metadata": {
        "colab": {
          "base_uri": "https://localhost:8080/"
        },
        "id": "TMnFwjwNkUdf",
        "outputId": "885c7258-ff11-46dc-c359-a1112b5ae281"
      },
      "execution_count": null,
      "outputs": [
        {
          "output_type": "execute_result",
          "data": {
            "text/plain": [
              "7313.0"
            ]
          },
          "metadata": {},
          "execution_count": 57
        }
      ]
    },
    {
      "cell_type": "code",
      "source": [
        "q_table_2, rewards_all_2 = SARSA(env, num_episodes, num_steps_per_episode, learning_rate, gamma, max_epsilon, min_epsilon, epsilon_decay_rate)"
      ],
      "metadata": {
        "colab": {
          "base_uri": "https://localhost:8080/"
        },
        "outputId": "0e0181bf-17be-4cfe-8bb5-6a34d8282c3b",
        "id": "4s-sohKxkUdf"
      },
      "execution_count": null,
      "outputs": [
        {
          "output_type": "stream",
          "name": "stdout",
          "text": [
            "Episode 19999 finished\n"
          ]
        }
      ]
    },
    {
      "cell_type": "code",
      "source": [
        "q_table_2"
      ],
      "metadata": {
        "colab": {
          "base_uri": "https://localhost:8080/"
        },
        "id": "72wWqbJSkUdf",
        "outputId": "ea801654-7c9b-4464-96a1-1bc51fe7b64e"
      },
      "execution_count": null,
      "outputs": [
        {
          "output_type": "execute_result",
          "data": {
            "text/plain": [
              "array([[ 0.        ,  0.        ,  0.        ,  0.        ,  0.        ,\n",
              "         0.        ],\n",
              "       [-4.25090989, -1.85770899, -2.03229882, -2.44126085,  9.32857538,\n",
              "        -5.4554385 ],\n",
              "       [ 1.13454761, -0.8735832 , -1.40701798,  3.83943155, 13.92323866,\n",
              "        -1.03001101],\n",
              "       ...,\n",
              "       [-1.50881601, -1.27640085, -1.50117238, -1.52673594, -2.95306419,\n",
              "        -4.18372556],\n",
              "       [-2.58589572, -2.64346028, -2.62329993, -0.0825706 , -6.3945349 ,\n",
              "        -3.5891608 ],\n",
              "       [-0.2614762 , -0.20988713, -0.20881   , 14.50148227, -1.9099    ,\n",
              "        -2.7199    ]])"
            ]
          },
          "metadata": {},
          "execution_count": 59
        }
      ]
    },
    {
      "cell_type": "code",
      "source": [
        "sum(rewards_all_2[9000:10000])"
      ],
      "metadata": {
        "colab": {
          "base_uri": "https://localhost:8080/"
        },
        "id": "5C4IeqjykUdf",
        "outputId": "c8399b80-62ea-471b-f7ad-ff175a7826b7"
      },
      "execution_count": null,
      "outputs": [
        {
          "output_type": "execute_result",
          "data": {
            "text/plain": [
              "7302.0"
            ]
          },
          "metadata": {},
          "execution_count": 60
        }
      ]
    },
    {
      "cell_type": "code",
      "source": [
        "play_multiple_times(env, q_table, 1000)"
      ],
      "metadata": {
        "colab": {
          "base_uri": "https://localhost:8080/"
        },
        "id": "gXPEjeOgkcQf",
        "outputId": "92b61e8b-ae36-4930-9756-25c2aaf7f1a3"
      },
      "execution_count": null,
      "outputs": [
        {
          "output_type": "stream",
          "name": "stdout",
          "text": [
            "Number of successes: 1000/1000\n",
            "Average number of steps: 13.166\n"
          ]
        }
      ]
    },
    {
      "cell_type": "code",
      "source": [
        "play_multiple_times(env, q_table_2, 1000)"
      ],
      "metadata": {
        "colab": {
          "base_uri": "https://localhost:8080/"
        },
        "id": "oFDiVyogkblI",
        "outputId": "92eb2a80-79df-4c2a-f66a-2f2e420fff35"
      },
      "execution_count": null,
      "outputs": [
        {
          "output_type": "stream",
          "name": "stdout",
          "text": [
            "Number of successes: 1000/1000\n",
            "Average number of steps: 13.085\n"
          ]
        }
      ]
    },
    {
      "cell_type": "markdown",
      "source": [
        "Nhận xét trên môi trường FrozenLake-v0:\n",
        "\n",
        "+ Number of sccesses của SARSA như nhau 1000 - tối đa.\n",
        "+ Average number of steps của 2 thuật toán cũng gần như nhau 13.166 và 13.085"
      ],
      "metadata": {
        "id": "jDODZ1dT01Mr"
      }
    },
    {
      "cell_type": "markdown",
      "source": [
        "# Nhận xét chung"
      ],
      "metadata": {
        "id": "5CI-LplY1BRO"
      }
    },
    {
      "cell_type": "markdown",
      "source": [
        "+ Thử nghiệm thuật toán Q-learning và SARSA qua 3 môi trường FrozenLake-v0, FrozenLake8x8-v0, Taxi-v3 thì Number of successes được cải thiện rõ rệt và Average number of steps được rút ngắn rất nhiều. \n",
        "+ Có thể thấy FrozenLake8x8 và Taxi-v3 là 2 môi trường mà Q-learning và SARSA chạy trên đó vượt trội rất nhiều so với FrozenLake-v0"
      ],
      "metadata": {
        "id": "mWR_R-281D7N"
      }
    }
  ]
}